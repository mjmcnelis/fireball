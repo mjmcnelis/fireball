{
 "cells": [
  {
   "cell_type": "code",
   "execution_count": 1,
   "metadata": {},
   "outputs": [],
   "source": [
    "import numpy as np\n",
    "import os\n",
    "import matplotlib.pyplot as plt\n",
    "from matplotlib.ticker import ScalarFormatter\n",
    "import seaborn as sns\n",
    "import math"
   ]
  },
  {
   "cell_type": "code",
   "execution_count": 23,
   "metadata": {},
   "outputs": [
    {
     "data": {
      "image/png": "[encoded data removed]",
      "text/plain": [
       "<Figure size 432x360 with 1 Axes>"
      ]
     },
     "metadata": {
      "needs_background": "light"
     },
     "output_type": "display_data"
    },
    {
     "name": "stdout",
     "output_type": "stream",
     "text": [
      "\n",
      "Number of fixed grid runs = 20000\n",
      "Number of auto grid runs = 20000\n",
      "\n",
      "Mean runtime (fixed) = 257.1 seconds\n",
      "Mean runtime (auto)  = 181.0 seconds\n",
      "\n",
      "Max runtime (fixed) = 608.0 seconds\n",
      "Max runtime (auto)  = 476.0 seconds\n",
      "\n",
      "Speedup = 1.42\n",
      "\n",
      "Mean time per step (fixed) = 0.5 seconds\n",
      "Mean time per step (auto)  = 0.337 seconds\n",
      "\n",
      "Mean steps (fixed) = 515.0\n",
      "Mean steps (auto)  = 515.0\n"
     ]
    }
   ],
   "source": [
    "parameter_samples = 200   # fixed\n",
    "\n",
    "runtime_fixed = []\n",
    "steps_fixed = []\n",
    "time_per_step_fixed = []\n",
    "\n",
    "runtime_auto  = []\n",
    "steps_auto = []\n",
    "time_per_step_auto = []\n",
    "\n",
    "for i in range(0, parameter_samples):\n",
    "    fixed_dir = 'launch/fixed_grid/benchmarks/benchmarks_' + str(i+1) + '.dat' \n",
    "    auto_dir  = 'launch/auto_grid/benchmarks/benchmarks_' + str(i+1) + '.dat' \n",
    "    \n",
    "    if os.path.exists(fixed_dir):\n",
    "        benchmarks = np.loadtxt(fixed_dir).reshape(-1, 5)\n",
    "        runtime_fixed = np.append(runtime_fixed, benchmarks[:,1])\n",
    "        steps_fixed = np.append(steps_fixed, benchmarks[:,2])\n",
    "        time_per_step_fixed = np.append(time_per_step_fixed, benchmarks[:,3])\n",
    "        \n",
    "        \n",
    "    if os.path.exists(auto_dir):\n",
    "        benchmarks = np.loadtxt(auto_dir)\n",
    "        if hydro_mode == 'vah':\n",
    "            benchmarks = benchmarks.reshape(-1, 5)    # new data format\n",
    "       \n",
    "        runtime_auto = np.append(runtime_auto, benchmarks[:,1])\n",
    "        steps_auto = np.append(steps_auto, benchmarks[:,2])\n",
    "        time_per_step_auto = np.append(time_per_step_auto, benchmarks[:,3])\n",
    "\n",
    "tmax = 500\n",
    "plt.figure(figsize=(6,5))\n",
    "plt.rc('xtick', labelsize=13)   \n",
    "plt.rc('ytick', labelsize=13)    \n",
    "plt.hist(runtime_fixed, bins = 50, alpha = 0.5, range = [0, tmax], label = 'Fixed grid', color = 'blue')\n",
    "plt.hist(runtime_auto,  bins = 50, alpha = 0.5, range = [0, tmax], label = 'Auto grid', color = 'red')\n",
    "plt.xlabel(\"Time (s)\", fontsize=16)\n",
    "plt.ylabel(\"Events\",fontsize=16)\n",
    "plt.xlim([0, tmax])\n",
    "plt.ylim([0., 1200])\n",
    "plt.xticks([0, 0.2*tmax, 0.4*tmax, 0.6*tmax, 0.8*tmax, tmax])\n",
    "plt.legend(prop={'size': 14}, frameon=False, bbox_to_anchor=(0.95,0.95), labelspacing=1)\n",
    "plt.show()\n",
    "print()\n",
    "print('Number of fixed grid runs =', len(runtime_fixed))   \n",
    "print('Number of auto grid runs =', len(runtime_auto))\n",
    "print()\n",
    "print('Mean runtime (fixed) =', round(runtime_fixed.mean(), 1), 'seconds')\n",
    "print('Mean runtime (auto)  =', round(runtime_auto.mean(), 1),  'seconds')\n",
    "print()\n",
    "print('Max runtime (fixed) =', round(runtime_fixed.max()),  'seconds')\n",
    "print('Max runtime (auto)  =', round(runtime_auto.max()),   'seconds')\n",
    "print()\n",
    "print('Speedup =', round(runtime_fixed.mean() / runtime_auto.mean(), 2))\n",
    "print()\n",
    "print('Mean time per step (fixed) =', round(time_per_step_fixed.mean(), 3), 'seconds')\n",
    "print('Mean time per step (auto)  =', round(time_per_step_auto.mean(), 3),  'seconds')\n",
    "print()\n",
    "print('Mean steps (fixed) =', round(steps_fixed.mean()))\n",
    "print('Mean steps (auto)  =', round(steps_auto.mean()))"
   ]
  },
  {
   "cell_type": "code",
   "execution_count": null,
   "metadata": {},
   "outputs": [],
   "source": []
  }
 ],
 "metadata": {
  "kernelspec": {
   "display_name": "Python 3",
   "language": "python",
   "name": "python3"
  },
  "language_info": {
   "codemirror_mode": {
    "name": "ipython",
    "version": 3
   },
   "file_extension": ".py",
   "mimetype": "text/x-python",
   "name": "python",
   "nbconvert_exporter": "python",
   "pygments_lexer": "ipython3",
   "version": "3.7.3"
  }
 },
 "nbformat": 4,
 "nbformat_minor": 2
}
