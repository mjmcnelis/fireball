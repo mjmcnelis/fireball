{
 "cells": [
  {
   "cell_type": "markdown",
   "metadata": {},
   "source": [
    "# The quark-gluon plasma fireball in ultrarelativistic heavy-ion collisions\n",
    "\n",
    "Relativistic hydrodynamic simulations of heavy-ion collisions contain a wide variety of **model parameters** for the initial conditions and hydrodynamic evolution of the **quark-gluon plasma**. These model parameters, along with the **impact parameter**, influence the size of the expanding **fireball**.\n",
    "\n",
    "The goal is to build a **multivariate-regression model** that predicts the **mean and std of the fireball radius distribution** (see example below) for a given set of model parameters + impact parameter (for now we keep them fixed).\n",
    "\n",
    "A practical application of this regression model is minimizing the **grid size** for hydrodynamic simulations. By automatically configuring the grid to be just large enough to fit the fireball **(instead of using the same grid for all parameter combinations)**, we can significantly reduce the computational time required to run millions of simulation events for a transport property extraction of QCD matter via Bayesian analysis. \n",
    "\n",
    "This example data set illustrates how large the quark-gluon plasma's **fireball radius** can get in viscous hydrodynamic simulations of Pb+Pb collisions at LHC energies. Here we look at central collisions with zero impact parameter **b = 0 fm** (i.e. they completely overlap each other in the collision zone) with fluctuating initial conditions for the temperature profile.\n"
   ]
  },
  {
   "cell_type": "code",
   "execution_count": null,
   "metadata": {},
   "outputs": [],
   "source": [
    "import pandas as pd\n",
    "import math\n",
    "import numpy as np\n",
    "import matplotlib.pyplot as plt\n",
    "import seaborn as sns\n",
    "from scipy import stats"
   ]
  },
  {
   "cell_type": "markdown",
   "metadata": {},
   "source": [
    "# Load example data\n",
    "\n",
    "\n",
    "This dataset contains the **max fireball radius** computed for the **500 fluctuating hydrodynamic events** described above. It also contains the spacetime coordinates **(tau, x, y)** when/where the max radius occurred (the longitudinal proper time **tau** can be thought of as the usual time **t**).\n",
    "\n",
    "These hydro events assume longitudinal boost-invariance, meaning that the fireball along the longitudinal direction **eta** (spacetime rapidity) looks the same.\n",
    "\n",
    "Although the longitudinal expansion rate is nonzero (Milne coordinates are curvilinear), we can visualize the fireball to be evolving in the transverse plane only.\n",
    "\n",
    "For this data set and future training sets, we fix the spatial grid to **30 fm x 30 fm**, with a lattice spacing of **dx = dy = 0.2 fm**. Typically, a spatial resolution of **0.1 fm** is needed to resolve initial state fluctuations in the transverse plane, but hydrodynamic codes can run about **8 times faster** on the coarser grid (allowing for larger data sets)"
   ]
  },
  {
   "cell_type": "code",
   "execution_count": null,
   "metadata": {},
   "outputs": [],
   "source": [
    "X = np.loadtxt(\"fireball_max_radius_example.dat\", dtype = float)\n",
    "\n",
    "tau    = X[:,0]     # spacetime coordinates of max fireball radius \n",
    "x      = X[:,1]\n",
    "y      = X[:,2]\n",
    "radius = X[:,4]     # max fireball radius\n",
    "\n",
    "print(\"samples = %d\" % X.shape[0])\n",
    "print(\"range   = [%.2f fm, %.2f fm]\" % (radius.min(), radius.max()))\n",
    "print(\"mean    = %.2f fm\" % radius.mean())\n",
    "print(\"std     = %.2f fm\" % radius.std())\n",
    "print(\"skew    = %.2f\" % stats.skew(radius))\n",
    "\n",
    "bin_width = 0.2\n",
    "bins = math.ceil((radius.max() - radius.min()) / bin_width)\n",
    "\n",
    "plt.figure(figsize = (5,4))\n",
    "plt.rc('font', size=12)          # controls default text sizes\n",
    "plt.rc('axes', titlesize=18)     # fontsize of the axes title\n",
    "plt.rc('axes', labelsize=16)     # fontsize of the x and y labels\n",
    "plt.rc('xtick', labelsize=12)    # fontsize of the tick labels\n",
    "plt.rc('ytick', labelsize=12)    # fontsize of the tick labels\n",
    "plt.hist(radius, bins = bins,  alpha=0.9, color='limegreen')\n",
    "plt.title(\"Max fireball radius\")\n",
    "plt.xlabel(\"r [fm]\")\n",
    "plt.ylabel(\"counts\")\n",
    "plt.xlim(11,15)\n",
    "plt.ylim(0,120)\n",
    "plt.show()"
   ]
  },
  {
   "cell_type": "markdown",
   "metadata": {},
   "source": [
    "We see that this distribution has a **positive skewness**. This can be attributed to the participant nucleons, whose energy deposition is modeled as a Gaussian distribution (here the **nucleon width** is set to **w = 1.1 fm**). \n",
    "\n",
    "These Gaussian bumps tend to push the fireball further outward in fluctuating hydrodynamic events."
   ]
  },
  {
   "cell_type": "markdown",
   "metadata": {},
   "source": [
    "# Max fireball radius spacetime distributions\n",
    "\n",
    "For zero impact parameter **b = 0 fm**, we expect the radius samples to fall along\n",
    "a circle in the transverse plane (on average) due to azimuthal symmetry.\n",
    "\n",
    "Most samples occur right after initialization **tau = 0.05 fm/c**, making them susceptible to initial state fluctuations.\n",
    "\n",
    "However, one can see that there is another cluster caused by the buildup of transverse expansion at later times **tau = 7.5 - 10 fm/c**."
   ]
  },
  {
   "cell_type": "code",
   "execution_count": null,
   "metadata": {},
   "outputs": [],
   "source": [
    "plt.figure(figsize = (5,5))\n",
    "plt.scatter(x, y, color = 'limegreen', s = 5)\n",
    "plt.title(\"Max fireball radius samples\", fontsize = 16)\n",
    "plt.xlim(-15,15)\n",
    "plt.ylim(-15,15)\n",
    "plt.xlabel(\"x [fm]\", fontsize = 16)\n",
    "plt.ylabel(\"y [fm]\", fontsize = 16)\n",
    "plt.show()\n",
    "\n",
    "plt.figure(figsize = (5,5))\n",
    "plt.scatter(tau, radius, color = 'limegreen', s = 5)\n",
    "plt.title(\"Max fireball radius samples\", fontsize = 16)\n",
    "plt.ylim(11,15)\n",
    "plt.xlim(-1,15)\n",
    "plt.xlabel(\"tau [fm/c]\", fontsize = 16)\n",
    "plt.ylabel(\"radius [fm]\", fontsize = 16)\n",
    "plt.show()"
   ]
  },
  {
   "cell_type": "markdown",
   "metadata": {},
   "source": [
    "# Separating the initial and hydro clusters\n",
    "\n",
    "A very early initialization of the hydrodynamic simulation may have caused the fireball radius distribution to be overly sensitive to initial state fluctuations.\n",
    "\n",
    "Training a single regression model on the total radius distribution might cloud the effects of the hydrodynamic evolution on the fireball radius.\n",
    "\n",
    "Therefore, it makes sense to **isolate these two clusters** (which can be done by hand)."
   ]
  },
  {
   "cell_type": "code",
   "execution_count": null,
   "metadata": {
    "scrolled": false
   },
   "outputs": [],
   "source": [
    "radius_initial = radius[tau <= 0.2]\n",
    "radius_hydro = radius[tau > 0.2]\n",
    "\n",
    "print(\"Initial max radius:\")\n",
    "print(\"samples = %d\" % radius_initial.shape[0])\n",
    "print(\"range   = [%.2f fm, %.2f fm]\" % (radius_initial.min(), radius_initial.max()))\n",
    "print(\"mean    = %.2f fm\" % radius_initial.mean())\n",
    "print(\"std     = %.2f fm\" % radius_initial.std())\n",
    "print(\"skew    = %.2f\" % stats.skew(radius_initial))\n",
    "print()\n",
    "print(\"Hydro max radius:\")\n",
    "print(\"samples = %d\" % radius_hydro.shape[0])\n",
    "print(\"range   = [%.2f fm, %.2f fm]\" % (radius_hydro.min(), radius_hydro.max()))\n",
    "print(\"mean    = %.2f fm\" % radius_hydro.mean())\n",
    "print(\"std     = %.2f fm\" % radius_hydro.std())\n",
    "print(\"skew    = %.2f\" % stats.skew(radius_hydro))\n",
    "\n",
    "plt.rc('font', size=12)          # controls default text sizes\n",
    "plt.rc('axes', titlesize=18)     # fontsize of the axes title\n",
    "plt.rc('axes', labelsize=16)     # fontsize of the x and y labels\n",
    "plt.rc('xtick', labelsize=12)    # fontsize of the tick labels\n",
    "plt.rc('ytick', labelsize=12)    # fontsize of the tick labels\n",
    "\n",
    "bin_width = 0.2\n",
    "bins = math.ceil((radius_initial.max() - radius_initial.min()) / bin_width)\n",
    "\n",
    "plt.figure(figsize = (5,4))\n",
    "plt.hist(radius_initial, bins = bins, alpha=0.9, color='limegreen')\n",
    "plt.xlim(11,15)\n",
    "plt.ylim(0,100)\n",
    "plt.title(\"Max fireball radius (initial)\")\n",
    "plt.xlabel(\"r [fm]\")\n",
    "plt.ylabel(\"counts\")\n",
    "plt.show()\n",
    "\n",
    "width = 0.2\n",
    "bins = math.ceil((radius_hydro.max() - radius_hydro.min()) / width)\n",
    "\n",
    "plt.figure(figsize = (5,4))\n",
    "plt.hist(radius_hydro, bins = bins, alpha=0.9, color='limegreen')\n",
    "plt.xlim(11,15)\n",
    "plt.ylim(0,18)\n",
    "plt.title(\"Max fireball radius (hydro)\")\n",
    "plt.xlabel(\"r [fm]\")\n",
    "plt.ylabel(\"counts\")\n",
    "plt.show()"
   ]
  },
  {
   "cell_type": "markdown",
   "metadata": {},
   "source": [
    "It appears that **radius_hydro** is narrower and more symmetric compared to **radius_initial**, indicating that it is less dependent on model parameters associated with the initial state. \n",
    "\n",
    "Likewise, we would expect **radius_initial** to be independent of the model parameters that affect the hydrodynamic evolution.\n",
    "\n",
    "Separating the initial state and hydrodynamic model parameters will probably make it easier to train a regression model for each of them. \n"
   ]
  },
  {
   "cell_type": "code",
   "execution_count": null,
   "metadata": {},
   "outputs": [],
   "source": []
  }
 ],
 "metadata": {
  "kernelspec": {
   "display_name": "Python 3",
   "language": "python",
   "name": "python3"
  },
  "language_info": {
   "codemirror_mode": {
    "name": "ipython",
    "version": 3
   },
   "file_extension": ".py",
   "mimetype": "text/x-python",
   "name": "python",
   "nbconvert_exporter": "python",
   "pygments_lexer": "ipython3",
   "version": "3.7.3"
  }
 },
 "nbformat": 4,
 "nbformat_minor": 2
}
