{
 "cells": [
  {
   "cell_type": "code",
   "execution_count": null,
   "metadata": {},
   "outputs": [],
   "source": [
    "import pandas as pd\n",
    "import numpy as np\n",
    "import matplotlib.pyplot as plt\n",
    "import seaborn as sns\n",
    "from pandas.plotting import scatter_matrix"
   ]
  },
  {
   "cell_type": "code",
   "execution_count": null,
   "metadata": {},
   "outputs": [],
   "source": [
    "test_data = np.loadtxt('test/test_data.dat')\n",
    "\n",
    "test_data_df = pd.DataFrame({\n",
    "    'b':   test_data[:,0],  'N':    test_data[:,1],  'p':       test_data[:,2],\n",
    "    'w':   test_data[:,3],  'dmin': test_data[:,4],  'sigmak':  test_data[:,5],\n",
    "    'Tsw': test_data[:,6],  'Tk':   test_data[:,7],  'etask':   test_data[:,8],\n",
    "    'aL':  test_data[:,9],  'aH':   test_data[:,10], 'zetasN':  test_data[:,11],\n",
    "    'Tp':  test_data[:,12], 'wz':   test_data[:,13], 'lambdaz': test_data[:,14],\n",
    "    \n",
    "    'radius_mean': test_data[:,15], 'radius_std': test_data[:,16]})\n",
    "\n",
    "test_data_df.head()"
   ]
  },
  {
   "cell_type": "code",
   "execution_count": null,
   "metadata": {},
   "outputs": [],
   "source": [
    "print('Total correlation matrix')\n",
    "scatter_matrix(test_data_df, figsize = (20,20), alpha = 1, s = 10)\n",
    "plt.show()"
   ]
  },
  {
   "cell_type": "code",
   "execution_count": null,
   "metadata": {},
   "outputs": [],
   "source": [
    "test_data_df.corr().style.background_gradient(cmap = 'coolwarm').set_precision(3)"
   ]
  },
  {
   "cell_type": "code",
   "execution_count": null,
   "metadata": {},
   "outputs": [],
   "source": [
    "# Feature selection for radius mean model:\n",
    "# [b, p, w, dmin, Tsw] = [0,2,3,4,6]\n",
    "\n",
    "test_X_radius_mean = test_data[:,[0,2,3,4,6]]\n",
    "test_y_radius_mean = test_data[:,-2]\n",
    "\n",
    "test_radius_mean_df = pd.DataFrame({\n",
    "    'b':     test_X_radius_mean[:,0], 'p':    test_X_radius_mean[:,1], 'w': test_X_radius_mean[:,2],\n",
    "    'd_min': test_X_radius_mean[:,3], 'T_sw': test_X_radius_mean[:,4], \n",
    "\n",
    "    'radius_mean': test_y_radius_mean})\n",
    "\n",
    "scatter_matrix(test_radius_mean_df, figsize = (10,10), alpha = 1, s = 10)\n",
    "plt.show()\n",
    "\n",
    "print(\"Radius mean correlation matrix\")\n",
    "test_radius_mean_df.corr().style.background_gradient(cmap = 'coolwarm').set_precision(3)"
   ]
  },
  {
   "cell_type": "code",
   "execution_count": null,
   "metadata": {},
   "outputs": [],
   "source": [
    "# Feature selection for radius std model:\n",
    "# [b, p, w, sigmak] = [0,2,3,5]\n",
    "\n",
    "test_X_radius_std = test_data[:,[0,2,3,5]]\n",
    "test_y_radius_std = test_data[:,-1]\n",
    "\n",
    "test_radius_std_df = pd.DataFrame({\n",
    "    'b': test_X_radius_std[:,0], 'p':      test_X_radius_std[:,1], \n",
    "    'w': test_X_radius_std[:,2], 'sigmak': test_X_radius_std[:,3],\n",
    "\n",
    "    'radius_std': test_y_radius_std})\n",
    "\n",
    "scatter_matrix(test_radius_std_df, figsize = (10,10), alpha = 1, s = 10)\n",
    "plt.show()\n",
    "\n",
    "print(\"Radius std correlation matrix\")\n",
    "test_radius_std_df.corr().style.background_gradient(cmap = 'coolwarm').set_precision(3)"
   ]
  },
  {
   "cell_type": "code",
   "execution_count": null,
   "metadata": {},
   "outputs": [],
   "source": []
  }
 ],
 "metadata": {
  "kernelspec": {
   "display_name": "Python 3",
   "language": "python",
   "name": "python3"
  },
  "language_info": {
   "codemirror_mode": {
    "name": "ipython",
    "version": 3
   },
   "file_extension": ".py",
   "mimetype": "text/x-python",
   "name": "python",
   "nbconvert_exporter": "python",
   "pygments_lexer": "ipython3",
   "version": "3.7.3"
  }
 },
 "nbformat": 4,
 "nbformat_minor": 2
}
